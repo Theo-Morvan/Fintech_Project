{
 "cells": [
  {
   "cell_type": "code",
   "execution_count": 1,
   "metadata": {},
   "outputs": [],
   "source": [
    "import pandas as pd\n",
    "import matplotlib.pyplot as plt\n",
    "import seaborn as sns\n",
    "from interest_rates import *\n",
    "import os\n",
    "from tqdm import tqdm"
   ]
  },
  {
   "cell_type": "code",
   "execution_count": 14,
   "metadata": {},
   "outputs": [
    {
     "name": "stdout",
     "output_type": "stream",
     "text": [
      "(100000, 2)\n"
     ]
    },
    {
     "data": {
      "text/html": [
       "<div>\n",
       "<style scoped>\n",
       "    .dataframe tbody tr th:only-of-type {\n",
       "        vertical-align: middle;\n",
       "    }\n",
       "\n",
       "    .dataframe tbody tr th {\n",
       "        vertical-align: top;\n",
       "    }\n",
       "\n",
       "    .dataframe thead th {\n",
       "        text-align: right;\n",
       "    }\n",
       "</style>\n",
       "<table border=\"1\" class=\"dataframe\">\n",
       "  <thead>\n",
       "    <tr style=\"text-align: right;\">\n",
       "      <th></th>\n",
       "      <th>id</th>\n",
       "      <th>rate</th>\n",
       "    </tr>\n",
       "  </thead>\n",
       "  <tbody>\n",
       "    <tr>\n",
       "      <th>0</th>\n",
       "      <td>100001</td>\n",
       "      <td>0.070655</td>\n",
       "    </tr>\n",
       "    <tr>\n",
       "      <th>1</th>\n",
       "      <td>100002</td>\n",
       "      <td>0.158496</td>\n",
       "    </tr>\n",
       "  </tbody>\n",
       "</table>\n",
       "</div>"
      ],
      "text/plain": [
       "       id      rate\n",
       "0  100001  0.070655\n",
       "1  100002  0.158496"
      ]
     },
     "execution_count": 14,
     "metadata": {},
     "output_type": "execute_result"
    }
   ],
   "source": [
    "df = pd.read_csv('data/final_ratings.csv')\n",
    "print(df.shape)\n",
    "df.head(2)"
   ]
  },
  {
   "cell_type": "code",
   "execution_count": 15,
   "metadata": {},
   "outputs": [
    {
     "name": "stdout",
     "output_type": "stream",
     "text": [
      "(100000, 2)\n"
     ]
    },
    {
     "data": {
      "text/html": [
       "<div>\n",
       "<style scoped>\n",
       "    .dataframe tbody tr th:only-of-type {\n",
       "        vertical-align: middle;\n",
       "    }\n",
       "\n",
       "    .dataframe tbody tr th {\n",
       "        vertical-align: top;\n",
       "    }\n",
       "\n",
       "    .dataframe thead th {\n",
       "        text-align: right;\n",
       "    }\n",
       "</style>\n",
       "<table border=\"1\" class=\"dataframe\">\n",
       "  <thead>\n",
       "    <tr style=\"text-align: right;\">\n",
       "      <th></th>\n",
       "      <th>id</th>\n",
       "      <th>break_even_rate</th>\n",
       "    </tr>\n",
       "  </thead>\n",
       "  <tbody>\n",
       "    <tr>\n",
       "      <th>0</th>\n",
       "      <td>100001</td>\n",
       "      <td>0.036959</td>\n",
       "    </tr>\n",
       "    <tr>\n",
       "      <th>1</th>\n",
       "      <td>100002</td>\n",
       "      <td>0.116814</td>\n",
       "    </tr>\n",
       "  </tbody>\n",
       "</table>\n",
       "</div>"
      ],
      "text/plain": [
       "       id  break_even_rate\n",
       "0  100001         0.036959\n",
       "1  100002         0.116814"
      ]
     },
     "execution_count": 15,
     "metadata": {},
     "output_type": "execute_result"
    }
   ],
   "source": [
    "df2 = pd.read_csv('data/break_even_rate.csv')\n",
    "print(df2.shape)\n",
    "df2.head(2)"
   ]
  },
  {
   "cell_type": "code",
   "execution_count": 16,
   "metadata": {},
   "outputs": [
    {
     "data": {
      "image/png": "[encoded data removed]",
      "text/plain": [
       "<Figure size 600x300 with 1 Axes>"
      ]
     },
     "metadata": {},
     "output_type": "display_data"
    }
   ],
   "source": [
    "fig, ax = plt.subplots(1,1,figsize=(6,3))\n",
    "sns.histplot(df.rate)\n",
    "plt.show()"
   ]
  },
  {
   "cell_type": "code",
   "execution_count": 6,
   "metadata": {},
   "outputs": [
    {
     "data": {
      "text/plain": [
       "0.097"
      ]
     },
     "execution_count": 6,
     "metadata": {},
     "output_type": "execute_result"
    }
   ],
   "source": [
    "sum(df.rate.isna())*100/df.shape[0]"
   ]
  },
  {
   "cell_type": "code",
   "execution_count": 17,
   "metadata": {},
   "outputs": [
    {
     "data": {
      "image/png": "[encoded data removed]",
      "text/plain": [
       "<Figure size 600x300 with 1 Axes>"
      ]
     },
     "metadata": {},
     "output_type": "display_data"
    }
   ],
   "source": [
    "fig, ax = plt.subplots(1,1,figsize=(6,3))\n",
    "sns.histplot(df2.break_even_rate)\n",
    "plt.show()"
   ]
  },
  {
   "cell_type": "code",
   "execution_count": 2,
   "metadata": {},
   "outputs": [],
   "source": [
    "dirname = os.path.dirname\n",
    "root = os.getcwd()\n",
    "\n",
    "data_path = os.path.join(dirname(root), \"data\")\n",
    "path = os.path.join(data_path,\"PastLoans.csv\")\n",
    "path_new_set = os.path.join(data_path, \"NewApplications_3_Round1.csv\")\n",
    "path_proba = os.path.join(root + '/data', 'default_predictions.csv') #the dataset with the probabilities of default\n",
    "path_proba = os.path.join(root + '/data', 'default_predictions_backtesting_mix_models.csv') #the dataset with the probabilities of default\n",
    "columns_test = [\"competing1\",\"competing2\",\"rate\"]"
   ]
  },
  {
   "cell_type": "code",
   "execution_count": 6,
   "metadata": {},
   "outputs": [
    {
     "name": "stderr",
     "output_type": "stream",
     "text": [
      "100%|██████████| 10/10 [00:54<00:00,  5.44s/it]"
     ]
    },
    {
     "name": "stdout",
     "output_type": "stream",
     "text": [
      "Profits made with this strategy during backtesting : -146561.85660000003\n",
      "Market share : 0.103%\n",
      "Best rate formula : 1.2*break-even-rate + 0.03\n"
     ]
    },
    {
     "name": "stderr",
     "output_type": "stream",
     "text": [
      "\n"
     ]
    }
   ],
   "source": [
    "range_a = np.linspace(1, 1.3, 10)\n",
    "range_b = np.linspace(0.01, 0.04, 10)\n",
    "best_param = (0, 0)\n",
    "profit = -np.Inf\n",
    "market_share = 0\n",
    "for a in tqdm(range_a):\n",
    "    for b in range_b:\n",
    "        probas = pd.read_csv(path_proba)[\"Proba Default\"]\n",
    "        df_new_preds = pd.read_csv(path_new_set, index_col=\"id\")\n",
    "        index_ids = df_new_preds.index\n",
    "        df_preds = compute_interest_rates(probas, a, b, index_ids)\n",
    "        df_past_results = pd.read_csv(os.path.join(data_path,\"profit_31.csv\"))\n",
    "        df_back_test = df_past_results.merge(df_preds, on='id', how=\"inner\")\n",
    "        df_back_test[\"winner\"] = df_back_test[columns_test].min(axis=1)\n",
    "        df_clients_won = df_back_test[df_back_test[\"winner\"]==df_back_test[\"rate\"]]\n",
    "\n",
    "        new_profit = df_clients_won['profit'].sum()\n",
    "        new_market_share = df_clients_won.shape[0]*100/df_new_preds.shape[0]\n",
    "        #print(new_profit, new_market_share, a, b)\n",
    "        if new_profit > profit:\n",
    "            best_param = (a, b)\n",
    "            market_share = new_market_share\n",
    "            profit = new_profit\n",
    "\n",
    "print(f\"Profits made with this strategy during backtesting : {profit}\")\n",
    "print(f\"Market share : {market_share}%\")\n",
    "print(f\"Best rate formula : {a}*break-even-rate + {b}\")"
   ]
  },
  {
   "cell_type": "markdown",
   "metadata": {},
   "source": [
    "## Optimizing the rating strategy"
   ]
  },
  {
   "cell_type": "code",
   "execution_count": 7,
   "metadata": {},
   "outputs": [
    {
     "name": "stderr",
     "output_type": "stream",
     "text": [
      "100%|██████████| 100/100 [00:39<00:00,  2.51it/s]"
     ]
    },
    {
     "name": "stdout",
     "output_type": "stream",
     "text": [
      "Best profit : 4801.2629\n",
      "Number of rates offered : 24444\n",
      "Number of clients won : 7\n",
      "Market share : 0.007%\n",
      "Best rate formula : 1.483*break-even-rate + 0.193\n"
     ]
    },
    {
     "name": "stderr",
     "output_type": "stream",
     "text": [
      "\n"
     ]
    }
   ],
   "source": [
    "import optuna\n",
    "\n",
    "def objective(trial):\n",
    "    a = trial.suggest_float('a', 1, 2)\n",
    "    b = trial.suggest_float('b', 0.01, 0.2)\n",
    "    probas = pd.read_csv(path_proba)\n",
    "    df_new_preds = pd.read_csv(path_new_set, index_col=\"id\")\n",
    "    index_ids = df_new_preds.index\n",
    "    df_preds = compute_interest_rates(probas, a, b, index_ids)\n",
    "    trial.set_user_attr(\"number_propositions\", sum(~df_preds.rate.isna()))\n",
    "\n",
    "    df_past_results = pd.read_csv(os.path.join(data_path,\"profit_31.csv\"))\n",
    "    df_back_test = df_past_results.merge(df_preds, on='id', how=\"inner\")\n",
    "    df_back_test[\"winner\"] = df_back_test[columns_test].min(axis=1)\n",
    "    df_clients_won = df_back_test[df_back_test[\"winner\"]==df_back_test[\"rate\"]]\n",
    "    trial.set_user_attr(\"number_clients\", df_clients_won.shape[0]) \n",
    "\n",
    "    market_share = df_clients_won.shape[0]*100/df_new_preds.shape[0]\n",
    "    trial.set_user_attr(\"market_share\", market_share) \n",
    "\n",
    "    profit = df_clients_won['profit'].sum()\n",
    "    return profit\n",
    "\n",
    "study = optuna.create_study(direction=\"maximize\")\n",
    "optuna.logging.set_verbosity(optuna.logging.WARNING)\n",
    "study.optimize(objective, n_trials=100, show_progress_bar=True)\n",
    "\n",
    "print(f\"Best profit : {study.best_value}\")\n",
    "print(f\"Number of rates offered : {study.best_trial.user_attrs.get('number_propositions')}\")\n",
    "print(f\"Number of clients won : {study.best_trial.user_attrs.get('number_clients')}\")\n",
    "print(f\"Market share : {study.best_trial.user_attrs.get('market_share')}%\")\n",
    "print(f\"Best rate formula : {np.round(study.best_params.get('a'), 3)}*break-even-rate + {np.round(study.best_params.get('b'), 3)}\")"
   ]
  },
  {
   "cell_type": "code",
   "execution_count": null,
   "metadata": {},
   "outputs": [],
   "source": []
  }
 ],
 "metadata": {
  "kernelspec": {
   "display_name": "Python 3.9.6 64-bit",
   "language": "python",
   "name": "python3"
  },
  "language_info": {
   "codemirror_mode": {
    "name": "ipython",
    "version": 3
   },
   "file_extension": ".py",
   "mimetype": "text/x-python",
   "name": "python",
   "nbconvert_exporter": "python",
   "pygments_lexer": "ipython3",
   "version": "3.9.6"
  },
  "orig_nbformat": 4,
  "vscode": {
   "interpreter": {
    "hash": "aee8b7b246df8f9039afb4144a1f6fd8d2ca17a180786b69acc140d282b71a49"
   }
  }
 },
 "nbformat": 4,
 "nbformat_minor": 2
}
